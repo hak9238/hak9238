{
  "cells": [
    {
      "cell_type": "markdown",
      "source": [
        "[![Open In Colab](https://colab.research.google.com/assets/colab-badge.svg)](https://colab.research.google.com/github/hak9238/hak9238/blob/main/koalpaca-polyglot-12.8b.ipynb)\n"
      ],
      "metadata": {
        "id": "sQeiNsqiKFgt"
      },
      "id": "sQeiNsqiKFgt"
    },
    {
      "cell_type": "code",
      "execution_count": null,
      "id": "0900aaea-356c-4c1b-941f-66e5d99c65e9",
      "metadata": {
        "colab": {
          "referenced_widgets": [
            "d6d5aaf81493405ea95e6c578eae7198"
          ]
        },
        "id": "0900aaea-356c-4c1b-941f-66e5d99c65e9",
        "outputId": "3cbed443-675f-42cd-edee-d8e7a027f380"
      },
      "outputs": [
        {
          "name": "stderr",
          "output_type": "stream",
          "text": [
            "/opt/anaconda3/lib/python3.12/site-packages/accelerate/utils/modeling.py:1536: UserWarning: Current model requires 18876808.0 bytes of buffer for offloaded layers, which seems does not fit any GPU's remaining memory. If you are experiencing a OOM later, please consider using offload_buffers=True.\n",
            "  warnings.warn(\n"
          ]
        },
        {
          "data": {
            "application/vnd.jupyter.widget-view+json": {
              "model_id": "d6d5aaf81493405ea95e6c578eae7198",
              "version_major": 2,
              "version_minor": 0
            },
            "text/plain": [
              "Loading checkpoint shards:   0%|          | 0/28 [00:00<?, ?it/s]"
            ]
          },
          "metadata": {},
          "output_type": "display_data"
        },
        {
          "name": "stderr",
          "output_type": "stream",
          "text": [
            "Some parameters are on the meta device because they were offloaded to the disk.\n"
          ]
        },
        {
          "name": "stdout",
          "output_type": "stream",
          "text": [
            "✅ KoAlpaca-Polyglot-12.8B 모델이 성공적으로 로드되었습니다!\n"
          ]
        }
      ],
      "source": [
        "from transformers import AutoTokenizer, AutoModelForCausalLM\n",
        "\n",
        "MODEL_NAME = \"beomi/KoAlpaca-Polyglot-12.8B\"\n",
        "offload_folder = \"/Users/hakhyunlee/offload\"  # 쓰기 가능한 경로로 설정\n",
        "\n",
        "# 토크나이저 로드\n",
        "tokenizer = AutoTokenizer.from_pretrained(MODEL_NAME)\n",
        "\n",
        "# FP16으로 모델 로드하고, device_map을 auto로 설정하여 자원을 자동으로 분배\n",
        "model = AutoModelForCausalLM.from_pretrained(\n",
        "    MODEL_NAME,\n",
        "    device_map=\"auto\",  # GPU/CPU 자원을 자동으로 분배\n",
        "    torch_dtype=\"float16\",  # FP16 사용으로 메모리 절약\n",
        "    offload_folder=offload_folder  # 메모리 부족 시 디스크로 일부 오프로드\n",
        ")\n",
        "\n",
        "print(\"✅ KoAlpaca-Polyglot-12.8B 모델이 성공적으로 로드되었습니다!\")\n"
      ]
    },
    {
      "cell_type": "code",
      "execution_count": null,
      "id": "7615c0a5",
      "metadata": {
        "id": "7615c0a5",
        "outputId": "c1302122-ed8e-4306-9a99-96ea9838f939"
      },
      "outputs": [
        {
          "name": "stdout",
          "output_type": "stream",
          "text": [
            "📅 20250101 날짜의 기사를 수집합니다...\n",
            "🗂️ '정치' 카테고리의 기사를 수집합니다...\n",
            "🗂️ '경제' 카테고리의 기사를 수집합니다...\n",
            "🗂️ '사회' 카테고리의 기사를 수집합니다...\n",
            "🗂️ '생활/문화' 카테고리의 기사를 수집합니다...\n",
            "🗂️ '세계' 카테고리의 기사를 수집합니다...\n",
            "🗂️ 'IT/과학' 카테고리의 기사를 수집합니다...\n",
            "🗂️ '오피니언' 카테고리의 기사를 수집합니다...\n",
            "🗂️ '포토' 카테고리의 기사를 수집합니다...\n",
            "🗂️ 'TV' 카테고리의 기사를 수집합니다...\n",
            "📅 20250102 날짜의 기사를 수집합니다...\n",
            "🗂️ '정치' 카테고리의 기사를 수집합니다...\n",
            "🗂️ '경제' 카테고리의 기사를 수집합니다...\n",
            "🗂️ '사회' 카테고리의 기사를 수집합니다...\n",
            "🗂️ '생활/문화' 카테고리의 기사를 수집합니다...\n",
            "🗂️ '세계' 카테고리의 기사를 수집합니다...\n",
            "🗂️ 'IT/과학' 카테고리의 기사를 수집합니다...\n",
            "🗂️ '오피니언' 카테고리의 기사를 수집합니다...\n",
            "🗂️ '포토' 카테고리의 기사를 수집합니다...\n",
            "🗂️ 'TV' 카테고리의 기사를 수집합니다...\n",
            "📅 20250103 날짜의 기사를 수집합니다...\n",
            "🗂️ '정치' 카테고리의 기사를 수집합니다...\n",
            "🗂️ '경제' 카테고리의 기사를 수집합니다...\n",
            "🗂️ '사회' 카테고리의 기사를 수집합니다...\n",
            "🗂️ '생활/문화' 카테고리의 기사를 수집합니다...\n",
            "🗂️ '세계' 카테고리의 기사를 수집합니다...\n",
            "🗂️ 'IT/과학' 카테고리의 기사를 수집합니다...\n",
            "🗂️ '오피니언' 카테고리의 기사를 수집합니다...\n",
            "🗂️ '포토' 카테고리의 기사를 수집합니다...\n",
            "🗂️ 'TV' 카테고리의 기사를 수집합니다...\n",
            "📰 뉴스 데이터가 '/Users/hakhyunlee/Desktop/대학원/실습 예제/뉴스 파일/뉴스_20250101_to_20250103.csv'에 성공적으로 저장되었습니다.\n"
          ]
        }
      ],
      "source": [
        "import os\n",
        "import requests\n",
        "from bs4 import BeautifulSoup\n",
        "import pandas as pd\n",
        "\n",
        "# 크롤링할 날짜 범위 설정 (2025년 1월 1일부터 1월 3일까지)\n",
        "start_date = '20250101'\n",
        "end_date = '20250103'\n",
        "date_range = pd.date_range(start=start_date, end=end_date)\n",
        "\n",
        "# 네이버 뉴스 카테고리 코드 설정\n",
        "categories = {\n",
        "    '정치': '100',\n",
        "    '경제': '101',\n",
        "    '사회': '102',\n",
        "    '생활/문화': '103',\n",
        "    '세계': '104',\n",
        "    'IT/과학': '105',\n",
        "    '오피니언': '110',\n",
        "    '포토': '115',\n",
        "    'TV': '120'\n",
        "}\n",
        "base_url = 'https://news.naver.com/main/list.naver'\n",
        "\n",
        "# HTTP 요청 헤더 설정\n",
        "headers = {\n",
        "    'User-Agent': 'Mozilla/5.0 (Windows NT 10.0; Win64; x64) '\n",
        "                  'AppleWebKit/537.36 (KHTML, like Gecko) '\n",
        "                  'Chrome/58.0.3029.110 Safari/537.3'\n",
        "}\n",
        "\n",
        "# 전체 뉴스 데이터를 저장할 리스트 초기화\n",
        "all_news = []\n",
        "\n",
        "# 각 날짜와 카테고리에 대해 크롤링 수행\n",
        "for single_date in date_range:\n",
        "    date_str = single_date.strftime('%Y%m%d')\n",
        "    print(f\"📅 {date_str} 날짜의 기사를 수집합니다...\")\n",
        "\n",
        "    for category_name, category_code in categories.items():\n",
        "        print(f\"🗂️ '{category_name}' 카테고리의 기사를 수집합니다...\")\n",
        "\n",
        "        titles = []\n",
        "        contents = []\n",
        "        links_set = set()  # 중복 방지를 위한 집합\n",
        "\n",
        "        # 페이지 번호를 1부터 3까지 순회\n",
        "        for page in range(1, 4):\n",
        "            # 현재 페이지의 URL 생성\n",
        "            params = {\n",
        "                'mode': 'LS2D',\n",
        "                'mid': 'shm',\n",
        "                'sid1': category_code,\n",
        "                'date': date_str,\n",
        "                'page': page\n",
        "            }\n",
        "            response = requests.get(base_url, headers=headers, params=params)\n",
        "            soup = BeautifulSoup(response.text, 'html.parser')\n",
        "\n",
        "            # 현재 페이지의 뉴스 기사 링크 추출\n",
        "            articles = soup.select('.newsflash_body .type06_headline li dl dt a')\n",
        "            links = [article['href'] for article in articles]\n",
        "\n",
        "            # 각 기사에 접근하여 제목과 본문 추출\n",
        "            for link in links:\n",
        "                if link not in links_set:\n",
        "                    links_set.add(link)\n",
        "                    article_response = requests.get(link, headers=headers)\n",
        "                    article_soup = BeautifulSoup(article_response.text, 'html.parser')\n",
        "\n",
        "                    # 제목 추출\n",
        "                    title_element = article_soup.find('h2', {'id': 'title_area'})\n",
        "                    if title_element:\n",
        "                        title = title_element.get_text(strip=True)\n",
        "                    else:\n",
        "                        title = '제목을 찾을 수 없습니다.'\n",
        "\n",
        "                    # 본문 추출\n",
        "                    content_element = article_soup.find('div', {'id': 'newsct_article'})\n",
        "                    if content_element:\n",
        "                        content = content_element.get_text(strip=True)\n",
        "                    else:\n",
        "                        content = '본문을 찾을 수 없습니다.'\n",
        "\n",
        "                    titles.append(title)\n",
        "                    contents.append(content)\n",
        "\n",
        "        # 데이터프레임 생성 및 중복 제거\n",
        "        news_df = pd.DataFrame({\n",
        "            'date': date_str,\n",
        "            'category': category_name,\n",
        "            'title': titles,\n",
        "            'content': contents\n",
        "        })\n",
        "        news_df.drop_duplicates(subset=['title'], inplace=True)\n",
        "\n",
        "        # 수집한 데이터를 리스트에 추가\n",
        "        all_news.append(news_df)\n",
        "\n",
        "# 모든 날짜와 카테고리의 데이터를 하나의 데이터프레임으로 결합\n",
        "final_news_df = pd.concat(all_news, ignore_index=True)\n",
        "\n",
        "# 저장할 폴더 경로 설정\n",
        "save_folder = '/Users/hakhyunlee/Desktop/대학원/실습 예제/뉴스 파일'\n",
        "\n",
        "# 폴더가 존재하지 않으면 생성\n",
        "if not os.path.exists(save_folder):\n",
        "    os.makedirs(save_folder)\n",
        "\n",
        "# 파일명 설정\n",
        "file_name = f'뉴스_{start_date}_to_{end_date}.csv'\n",
        "save_path = os.path.join(save_folder, file_name)\n",
        "\n",
        "# CSV 파일로 저장\n",
        "final_news_df.to_csv(save_path, index=False, encoding='utf-8-sig')\n",
        "\n",
        "print(f\"📰 뉴스 데이터가 '{save_path}'에 성공적으로 저장되었습니다.\")\n",
        "\n",
        "\n",
        "\n"
      ]
    },
    {
      "cell_type": "code",
      "execution_count": null,
      "id": "1085b1da",
      "metadata": {
        "id": "1085b1da"
      },
      "outputs": [],
      "source": []
    },
    {
      "cell_type": "code",
      "execution_count": null,
      "id": "f8429c35-6ed8-4cf0-8a1f-f7f7437d0478",
      "metadata": {
        "id": "f8429c35-6ed8-4cf0-8a1f-f7f7437d0478"
      },
      "outputs": [],
      "source": []
    }
  ],
  "metadata": {
    "kernelspec": {
      "display_name": "Python 3 (ipykernel)",
      "language": "python",
      "name": "python3"
    },
    "language_info": {
      "codemirror_mode": {
        "name": "ipython",
        "version": 3
      },
      "file_extension": ".py",
      "mimetype": "text/x-python",
      "name": "python",
      "nbconvert_exporter": "python",
      "pygments_lexer": "ipython3",
      "version": "3.12.7"
    },
    "colab": {
      "provenance": []
    }
  },
  "nbformat": 4,
  "nbformat_minor": 5
}